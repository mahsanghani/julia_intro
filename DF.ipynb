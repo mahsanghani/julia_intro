{
 "cells": [
  {
   "cell_type": "markdown",
   "id": "dutch-sailing",
   "metadata": {},
   "source": [
    "# Introduction to DataFrames\n",
    "[Bogumił Kamiński](http://bogumilkaminski.pl/about/)\n",
    "\n",
    "Let's get started by loading the `DataFrames` package.\n",
    "\n",
    "## Constructors and conversion\n",
    "\n",
    "### Constructors\n",
    "\n",
    "In this section, you'll see many ways to create a `DataFrame` using the `DataFrame()` constructor.\n",
    "\n",
    "First, we could create an empty DataFrame,"
   ]
  },
  {
   "cell_type": "code",
   "execution_count": null,
   "id": "romantic-lincoln",
   "metadata": {},
   "outputs": [],
   "source": [
    "import Pkg;\n",
    "Pkg.add(\"DataFrames\");\n",
    "Pkg.add(\"Random\");\n",
    "Pkg.add(\"CSV\");\n",
    "Pkg.add(\"JLD\");\n",
    "using DataFrames;\n",
    "using Random;\n",
    "using CSV;\n",
    "using JLD;\n",
    "DataFrame();"
   ]
  },
  {
   "cell_type": "code",
   "execution_count": null,
   "id": "white-smile",
   "metadata": {},
   "outputs": [],
   "source": [
    "DataFrame(A=1:3, B=rand(3), C=randstring.([3,3,3]))"
   ]
  },
  {
   "cell_type": "code",
   "execution_count": null,
   "id": "willing-dragon",
   "metadata": {},
   "outputs": [],
   "source": [
    "x = Dict(\"A\" => [1,2], \"B\" => [true, false], \"C\" => ['a', 'b'])\n",
    "DataFrame(x)"
   ]
  },
  {
   "cell_type": "code",
   "execution_count": null,
   "id": "backed-batch",
   "metadata": {},
   "outputs": [],
   "source": [
    "DataFrame(:A => [1,2], :B => [true, false], :C => ['a', 'b'])"
   ]
  },
  {
   "cell_type": "code",
   "execution_count": null,
   "id": "hawaiian-imaging",
   "metadata": {},
   "outputs": [],
   "source": [
    "DataFrame([rand(3) for i in 1:3])"
   ]
  },
  {
   "cell_type": "code",
   "execution_count": null,
   "id": "settled-idaho",
   "metadata": {},
   "outputs": [],
   "source": [
    "DataFrame(rand(3))"
   ]
  },
  {
   "cell_type": "code",
   "execution_count": null,
   "id": "temporal-spouse",
   "metadata": {},
   "outputs": [],
   "source": [
    "DataFrame(transpose([1, 2, 3]))"
   ]
  },
  {
   "cell_type": "code",
   "execution_count": null,
   "id": "nearby-carol",
   "metadata": {},
   "outputs": [],
   "source": [
    "DataFrame([1:3, 4:6, 7:9], [:A, :B, :C])"
   ]
  },
  {
   "cell_type": "code",
   "execution_count": null,
   "id": "directed-christian",
   "metadata": {},
   "outputs": [],
   "source": [
    "DataFrame(rand(3,4))"
   ]
  },
  {
   "cell_type": "code",
   "execution_count": null,
   "id": "anonymous-temperature",
   "metadata": {},
   "outputs": [],
   "source": [
    "DataFrame(rand(3,4), Symbol.('a':'d'))"
   ]
  },
  {
   "cell_type": "code",
   "execution_count": null,
   "id": "enormous-terminology",
   "metadata": {},
   "outputs": [],
   "source": [
    "DataFrame([Int, Float64, Any], [:A, :B, :C], 1)"
   ]
  },
  {
   "cell_type": "code",
   "execution_count": null,
   "id": "optional-stewart",
   "metadata": {},
   "outputs": [],
   "source": [
    "DataFrame([Int, Float64, String], [:A, :B, :C], 1)"
   ]
  },
  {
   "cell_type": "code",
   "execution_count": null,
   "id": "modified-badge",
   "metadata": {},
   "outputs": [],
   "source": [
    "DataFrame([Int, Float64, String], [:A, :B, :C], 0) "
   ]
  },
  {
   "cell_type": "code",
   "execution_count": null,
   "id": "yellow-magnet",
   "metadata": {},
   "outputs": [],
   "source": [
    "DataFrame(Int, 3, 5)"
   ]
  },
  {
   "cell_type": "code",
   "execution_count": null,
   "id": "prostate-final",
   "metadata": {},
   "outputs": [],
   "source": [
    "DataFrame([Int, Float64], 4)"
   ]
  },
  {
   "cell_type": "code",
   "execution_count": null,
   "id": "organic-karaoke",
   "metadata": {},
   "outputs": [],
   "source": [
    "y = DataFrame(x)\n",
    "z = copy(x)\n",
    "(x === y), (x === z), isequal(x, z)"
   ]
  },
  {
   "cell_type": "code",
   "execution_count": null,
   "id": "dying-hypothetical",
   "metadata": {},
   "outputs": [],
   "source": [
    "x = DataFrame(x=1:2, y=[\"A\", \"B\"])"
   ]
  },
  {
   "cell_type": "code",
   "execution_count": null,
   "id": "pharmaceutical-masters",
   "metadata": {},
   "outputs": [],
   "source": [
    "Matrix(x)"
   ]
  },
  {
   "cell_type": "code",
   "execution_count": null,
   "id": "basic-nepal",
   "metadata": {},
   "outputs": [],
   "source": [
    "x = DataFrame(x=1:2, y=[missing,\"B\"])"
   ]
  },
  {
   "cell_type": "code",
   "execution_count": null,
   "id": "decimal-asset",
   "metadata": {},
   "outputs": [],
   "source": [
    "Matrix(x)"
   ]
  },
  {
   "cell_type": "code",
   "execution_count": null,
   "id": "minus-spirituality",
   "metadata": {},
   "outputs": [],
   "source": [
    "x = DataFrame(x=1:2, y=3:4)"
   ]
  },
  {
   "cell_type": "code",
   "execution_count": null,
   "id": "caroline-bunch",
   "metadata": {},
   "outputs": [],
   "source": [
    "Matrix(x)"
   ]
  },
  {
   "cell_type": "code",
   "execution_count": null,
   "id": "narrative-pound",
   "metadata": {},
   "outputs": [],
   "source": [
    "x = DataFrame(x=1:2, y=[missing,4])"
   ]
  },
  {
   "cell_type": "code",
   "execution_count": null,
   "id": "indian-selection",
   "metadata": {},
   "outputs": [],
   "source": [
    "Matrix(x)"
   ]
  },
  {
   "cell_type": "code",
   "execution_count": null,
   "id": "moral-collar",
   "metadata": {},
   "outputs": [],
   "source": [
    "# Note that we can't force a conversion of `missing` values to `Int`s!\n",
    "\n",
    "Matrix{Int}(x)"
   ]
  },
  {
   "cell_type": "code",
   "execution_count": null,
   "id": "breeding-techno",
   "metadata": {},
   "outputs": [],
   "source": [
    "df = DataFrame(:a=>1, :a=>2, :a_1=>3; makeunique=true)"
   ]
  },
  {
   "cell_type": "code",
   "execution_count": null,
   "id": "southern-lebanon",
   "metadata": {},
   "outputs": [],
   "source": [
    "df = DataFrame(:a=>1, :a=>2, :a_1=>3)"
   ]
  },
  {
   "cell_type": "code",
   "execution_count": null,
   "id": "pressed-martin",
   "metadata": {},
   "outputs": [],
   "source": [
    "df = DataFrame(a=1, a=2, makeunique=true)"
   ]
  },
  {
   "cell_type": "code",
   "execution_count": null,
   "id": "spiritual-delaware",
   "metadata": {},
   "outputs": [],
   "source": [
    "x = DataFrame(A = [1, 2], B = [1.0, missing], C = [\"a\", \"b\"])"
   ]
  },
  {
   "cell_type": "code",
   "execution_count": null,
   "id": "informed-remark",
   "metadata": {},
   "outputs": [],
   "source": [
    "size(x), size(x, 1), size(x, 2)"
   ]
  },
  {
   "cell_type": "code",
   "execution_count": null,
   "id": "guided-heritage",
   "metadata": {},
   "outputs": [],
   "source": [
    "nrow(x), ncol(x), length(x) # deprecated?"
   ]
  },
  {
   "cell_type": "code",
   "execution_count": null,
   "id": "devoted-valve",
   "metadata": {},
   "outputs": [],
   "source": [
    "describe(x)"
   ]
  },
  {
   "cell_type": "code",
   "execution_count": null,
   "id": "popular-threshold",
   "metadata": {},
   "outputs": [],
   "source": [
    "showcols(x)"
   ]
  },
  {
   "cell_type": "code",
   "execution_count": null,
   "id": "systematic-pavilion",
   "metadata": {},
   "outputs": [],
   "source": [
    "names(x)"
   ]
  },
  {
   "cell_type": "code",
   "execution_count": null,
   "id": "related-purpose",
   "metadata": {},
   "outputs": [],
   "source": [
    "eltypes(x)"
   ]
  },
  {
   "cell_type": "code",
   "execution_count": null,
   "id": "quantitative-trouble",
   "metadata": {},
   "outputs": [],
   "source": [
    "y = DataFrame(rand(1:10, 1000, 10));"
   ]
  },
  {
   "cell_type": "code",
   "execution_count": null,
   "id": "instant-timber",
   "metadata": {},
   "outputs": [],
   "source": [
    "head(y)"
   ]
  },
  {
   "cell_type": "code",
   "execution_count": null,
   "id": "stretch-wisdom",
   "metadata": {},
   "outputs": [],
   "source": [
    "tail(y, 3)"
   ]
  },
  {
   "cell_type": "code",
   "execution_count": null,
   "id": "returning-radiation",
   "metadata": {},
   "outputs": [],
   "source": [
    "x[1], x[:A], x[:, 1]"
   ]
  },
  {
   "cell_type": "code",
   "execution_count": null,
   "id": "blessed-appliance",
   "metadata": {},
   "outputs": [],
   "source": [
    "x[1, :]"
   ]
  },
  {
   "cell_type": "code",
   "execution_count": null,
   "id": "about-sweden",
   "metadata": {},
   "outputs": [],
   "source": [
    "x[1, 1]"
   ]
  },
  {
   "cell_type": "code",
   "execution_count": null,
   "id": "continuous-surge",
   "metadata": {},
   "outputs": [],
   "source": [
    "x[1:2, 1:2] = 1\n",
    "x"
   ]
  },
  {
   "cell_type": "code",
   "execution_count": null,
   "id": "advisory-dragon",
   "metadata": {},
   "outputs": [],
   "source": [
    "x[1:2, 1:2] = [1,2]\n",
    "x"
   ]
  },
  {
   "cell_type": "code",
   "execution_count": null,
   "id": "marked-world",
   "metadata": {},
   "outputs": [],
   "source": [
    "x[1:2, 1:2] = DataFrame([5 6; 7 8])\n",
    "x"
   ]
  },
  {
   "cell_type": "code",
   "execution_count": null,
   "id": "tired-poultry",
   "metadata": {},
   "outputs": [],
   "source": [
    "missing, typeof(missing)"
   ]
  },
  {
   "cell_type": "code",
   "execution_count": null,
   "id": "devoted-dakota",
   "metadata": {},
   "outputs": [],
   "source": [
    "x = [1, 2, missing, 3]"
   ]
  },
  {
   "cell_type": "code",
   "execution_count": null,
   "id": "weekly-opposition",
   "metadata": {},
   "outputs": [],
   "source": [
    "ismissing(1), ismissing(missing), ismissing(x), ismissing.(x)"
   ]
  },
  {
   "cell_type": "code",
   "execution_count": null,
   "id": "revised-senate",
   "metadata": {},
   "outputs": [],
   "source": [
    "eltype(x), Missings.T(eltype(x))"
   ]
  },
  {
   "cell_type": "code",
   "execution_count": null,
   "id": "intended-newton",
   "metadata": {},
   "outputs": [],
   "source": [
    "missing == missing, missing != missing, missing < missing"
   ]
  },
  {
   "cell_type": "code",
   "execution_count": null,
   "id": "smart-windows",
   "metadata": {},
   "outputs": [],
   "source": [
    "1 == missing, 1 != missing, 1 < missing"
   ]
  },
  {
   "cell_type": "code",
   "execution_count": null,
   "id": "healthy-language",
   "metadata": {},
   "outputs": [],
   "source": [
    "isequal(missing, missing), missing === missing, isequal(1, missing), isless(1, missing)"
   ]
  },
  {
   "cell_type": "code",
   "execution_count": null,
   "id": "aquatic-chuck",
   "metadata": {},
   "outputs": [],
   "source": [
    "map(x -> x(missing), [sin, cos, zero, sqrt]) # part 1"
   ]
  },
  {
   "cell_type": "code",
   "execution_count": null,
   "id": "physical-infrastructure",
   "metadata": {},
   "outputs": [],
   "source": [
    "map(x -> x(missing, 1), [+, - , *, /, div]) # part 2 a"
   ]
  },
  {
   "cell_type": "code",
   "execution_count": null,
   "id": "varying-combination",
   "metadata": {},
   "outputs": [],
   "source": [
    "map(x -> x([1,2,missing]), [minimum, maximum, extrema, mean, any, float]) # part 3"
   ]
  },
  {
   "cell_type": "code",
   "execution_count": null,
   "id": "prompt-houston",
   "metadata": {},
   "outputs": [],
   "source": [
    "collect(skipmissing([1, missing, 2, missing]))"
   ]
  },
  {
   "cell_type": "code",
   "execution_count": null,
   "id": "straight-comfort",
   "metadata": {},
   "outputs": [],
   "source": [
    "collect(Missings.replace([1.0, missing, 2.0, missing], NaN))"
   ]
  },
  {
   "cell_type": "code",
   "execution_count": null,
   "id": "interesting-trace",
   "metadata": {},
   "outputs": [],
   "source": [
    "coalesce.([1.0, missing, 2.0, missing], NaN)"
   ]
  },
  {
   "cell_type": "code",
   "execution_count": null,
   "id": "thousand-execution",
   "metadata": {},
   "outputs": [],
   "source": [
    "coalesce.([1.0, missing, nothing, missing], NaN)"
   ]
  },
  {
   "cell_type": "code",
   "execution_count": null,
   "id": "future-reminder",
   "metadata": {},
   "outputs": [],
   "source": [
    "recode([1.0, missing, 2.0, missing], missing=>NaN)"
   ]
  },
  {
   "cell_type": "code",
   "execution_count": null,
   "id": "three-queen",
   "metadata": {},
   "outputs": [],
   "source": [
    "unique([1, missing, 2, missing]), levels([1, missing, 2, missing])"
   ]
  },
  {
   "cell_type": "code",
   "execution_count": null,
   "id": "alternative-start",
   "metadata": {},
   "outputs": [],
   "source": [
    "x = [1,2,3]\n",
    "y = allowmissing(x)"
   ]
  },
  {
   "cell_type": "code",
   "execution_count": null,
   "id": "internal-cisco",
   "metadata": {},
   "outputs": [],
   "source": [
    "z = disallowmissing(y)\n",
    "x,y,z"
   ]
  },
  {
   "cell_type": "code",
   "execution_count": null,
   "id": "front-preliminary",
   "metadata": {},
   "outputs": [],
   "source": [
    "x = DataFrame(Int, 2, 3)\n",
    "println(\"Before: \", eltypes(x))\n",
    "allowmissing!(x, 1) # make first column accept missings\n",
    "allowmissing!(x, :x3) # make :x3 column accept missings\n",
    "println(\"After: \", eltypes(x))"
   ]
  },
  {
   "cell_type": "code",
   "execution_count": null,
   "id": "statistical-special",
   "metadata": {},
   "outputs": [],
   "source": [
    "x = DataFrame(A=[1, missing, 3, 4], B=[\"A\", \"B\", missing, \"C\"])\n",
    "println(x)\n",
    "println(\"Complete cases:\\n\", completecases(x))"
   ]
  },
  {
   "cell_type": "code",
   "execution_count": null,
   "id": "approximate-recruitment",
   "metadata": {},
   "outputs": [],
   "source": [
    "y = dropmissing(x)\n",
    "dropmissing!(x)\n",
    "[x, y]"
   ]
  },
  {
   "cell_type": "code",
   "execution_count": null,
   "id": "prompt-oregon",
   "metadata": {},
   "outputs": [],
   "source": [
    "using DataFrames;\n",
    "showcols(x)"
   ]
  },
  {
   "cell_type": "code",
   "execution_count": null,
   "id": "divine-florence",
   "metadata": {},
   "outputs": [],
   "source": [
    "using DataFrames;\n",
    "disallowmissing!(x)\n",
    "showcols(x)"
   ]
  },
  {
   "cell_type": "code",
   "execution_count": null,
   "id": "preliminary-right",
   "metadata": {},
   "outputs": [],
   "source": [
    "x = DataFrame(A=[true, false, true], B=[1, 2, missing],\n",
    "              C=[missing, \"b\", \"c\"], D=['a', missing, 'c'])"
   ]
  },
  {
   "cell_type": "code",
   "execution_count": null,
   "id": "continued-chess",
   "metadata": {},
   "outputs": [],
   "source": [
    "eltypes(x)"
   ]
  },
  {
   "cell_type": "code",
   "execution_count": null,
   "id": "lonely-lighting",
   "metadata": {},
   "outputs": [],
   "source": [
    "CSV.write(\"x.csv\", x)"
   ]
  },
  {
   "cell_type": "code",
   "execution_count": null,
   "id": "referenced-escape",
   "metadata": {},
   "outputs": [],
   "source": [
    "print(read(\"x.csv\", String))"
   ]
  },
  {
   "cell_type": "code",
   "execution_count": null,
   "id": "steady-index",
   "metadata": {},
   "outputs": [],
   "source": [
    "using DataFrames;\n",
    "y = CSV.read(\"x.csv\", use_mmap=false)"
   ]
  },
  {
   "cell_type": "code",
   "execution_count": null,
   "id": "practical-merchandise",
   "metadata": {},
   "outputs": [],
   "source": [
    "eltypes(y)"
   ]
  },
  {
   "cell_type": "code",
   "execution_count": null,
   "id": "sound-blend",
   "metadata": {},
   "outputs": [],
   "source": [
    "save(\"x.jld\", \"x\", x)"
   ]
  },
  {
   "cell_type": "code",
   "execution_count": null,
   "id": "exempt-small",
   "metadata": {},
   "outputs": [],
   "source": [
    "y = load(\"x.jld\", \"x\")"
   ]
  },
  {
   "cell_type": "code",
   "execution_count": null,
   "id": "circular-washer",
   "metadata": {},
   "outputs": [],
   "source": [
    "eltypes(y)"
   ]
  },
  {
   "cell_type": "code",
   "execution_count": null,
   "id": "organic-thomson",
   "metadata": {},
   "outputs": [],
   "source": [
    "bigdf = DataFrame(Bool, 10^3, 10^2)\n",
    "@time CSV.write(\"bigdf.csv\", bigdf)\n",
    "@time save(\"bigdf.jld\", \"bigdf\", bigdf)\n",
    "getfield.(stat.([\"bigdf.csv\", \"bigdf.jld\"]), :size)"
   ]
  },
  {
   "cell_type": "code",
   "execution_count": null,
   "id": "automatic-heaven",
   "metadata": {},
   "outputs": [],
   "source": [
    "foreach(rm, [\"x.csv\", \"x.jld\", \"bigdf.csv\", \"bigdf.jld\"])"
   ]
  },
  {
   "cell_type": "code",
   "execution_count": null,
   "id": "essential-absorption",
   "metadata": {},
   "outputs": [],
   "source": [
    "x = DataFrame(Bool, 3, 4)"
   ]
  },
  {
   "cell_type": "code",
   "execution_count": null,
   "id": "incoming-abortion",
   "metadata": {},
   "outputs": [],
   "source": [
    "rename(x, :x1 => :A)"
   ]
  },
  {
   "cell_type": "code",
   "execution_count": null,
   "id": "allied-classroom",
   "metadata": {},
   "outputs": [],
   "source": [
    "rename!(c -> Symbol(string(c)^2), x)"
   ]
  },
  {
   "cell_type": "code",
   "execution_count": null,
   "id": "boxed-xerox",
   "metadata": {},
   "outputs": [],
   "source": [
    "rename(x, names(x)[3] => :third)"
   ]
  },
  {
   "cell_type": "code",
   "execution_count": null,
   "id": "elect-insider",
   "metadata": {},
   "outputs": [],
   "source": [
    "names!(x, [:a, :b, :c, :d])"
   ]
  },
  {
   "cell_type": "code",
   "execution_count": null,
   "id": "functional-guard",
   "metadata": {},
   "outputs": [],
   "source": [
    "names!(x, fill(:a, 4))"
   ]
  },
  {
   "cell_type": "code",
   "execution_count": null,
   "id": "fatal-treat",
   "metadata": {},
   "outputs": [],
   "source": [
    "names!(x, fill(:a, 4), makeunique=true)"
   ]
  },
  {
   "cell_type": "code",
   "execution_count": null,
   "id": "connected-gross",
   "metadata": {},
   "outputs": [],
   "source": [
    "srand(1234)\n",
    "x[shuffle(names(x))]"
   ]
  },
  {
   "cell_type": "code",
   "execution_count": null,
   "id": "charming-nirvana",
   "metadata": {},
   "outputs": [],
   "source": [
    "x = DataFrame([(i,j) for i in 1:3, j in 1:4])"
   ]
  },
  {
   "cell_type": "code",
   "execution_count": null,
   "id": "upper-matter",
   "metadata": {},
   "outputs": [],
   "source": [
    "hcat(x, x, makeunique=true)"
   ]
  },
  {
   "cell_type": "code",
   "execution_count": null,
   "id": "vocational-backup",
   "metadata": {},
   "outputs": [],
   "source": [
    "y = hcat(x, [1,2,3], makeunique=true)"
   ]
  },
  {
   "cell_type": "code",
   "execution_count": null,
   "id": "composite-progress",
   "metadata": {},
   "outputs": [],
   "source": [
    "hcat([1,2,3], x, makeunique=true)"
   ]
  },
  {
   "cell_type": "code",
   "execution_count": null,
   "id": "pleasant-inclusion",
   "metadata": {},
   "outputs": [],
   "source": [
    "y = [x DataFrame(A=[1,2,3])]"
   ]
  },
  {
   "cell_type": "code",
   "execution_count": null,
   "id": "serial-appeal",
   "metadata": {},
   "outputs": [],
   "source": [
    "y = [DataFrame(A=[1,2,3]) x]"
   ]
  },
  {
   "cell_type": "code",
   "execution_count": null,
   "id": "corresponding-bride",
   "metadata": {},
   "outputs": [],
   "source": [
    "using BenchmarkTools\n",
    "@btime [$x[1:2] DataFrame(A=[1,2,3]) $x[3:4]]"
   ]
  },
  {
   "cell_type": "code",
   "execution_count": null,
   "id": "outer-queensland",
   "metadata": {},
   "outputs": [],
   "source": [
    "insert!(y, 2, [1,2,3], :newcol)"
   ]
  },
  {
   "cell_type": "code",
   "execution_count": null,
   "id": "engaging-corpus",
   "metadata": {},
   "outputs": [],
   "source": [
    "insert!(y, 2, [1,2,3], :newcol, makeunique=true)"
   ]
  },
  {
   "cell_type": "code",
   "execution_count": null,
   "id": "developing-webcam",
   "metadata": {},
   "outputs": [],
   "source": [
    "@btime insert!(copy($x), 3, [1,2,3], :A)"
   ]
  },
  {
   "cell_type": "code",
   "execution_count": null,
   "id": "academic-detector",
   "metadata": {},
   "outputs": [],
   "source": [
    "insert!(x, ncol(x)+1, [1,2,3], :A)"
   ]
  },
  {
   "cell_type": "code",
   "execution_count": null,
   "id": "structural-tomato",
   "metadata": {},
   "outputs": [],
   "source": [
    "insert!(x, 1, [1,2,3], :B)"
   ]
  },
  {
   "cell_type": "code",
   "execution_count": null,
   "id": "existing-tenant",
   "metadata": {},
   "outputs": [],
   "source": [
    "df1 = DataFrame(x=1:3, y=4:6)\n",
    "df2 = DataFrame(x='a':'c', z = 'd':'f', new=11:13)\n",
    "df1, df2, merge!(df1, df2)"
   ]
  },
  {
   "cell_type": "code",
   "execution_count": null,
   "id": "close-coordinate",
   "metadata": {},
   "outputs": [],
   "source": [
    "df1 = DataFrame(x=1:3, y=4:6)\n",
    "df2 = DataFrame(x='a':'c', z = 'd':'f', new=11:13)\n",
    "hcat(df1, df2, makeunique=true)"
   ]
  },
  {
   "cell_type": "code",
   "execution_count": null,
   "id": "tough-communist",
   "metadata": {},
   "outputs": [],
   "source": [
    "x = DataFrame([(i,j) for i in 1:3, j in 1:5])"
   ]
  },
  {
   "cell_type": "code",
   "execution_count": null,
   "id": "egyptian-bangladesh",
   "metadata": {},
   "outputs": [],
   "source": [
    "x[[1,2,4,5]]"
   ]
  },
  {
   "cell_type": "code",
   "execution_count": null,
   "id": "neither-commercial",
   "metadata": {},
   "outputs": [],
   "source": [
    "x[[:x1, :x4]]"
   ]
  },
  {
   "cell_type": "code",
   "execution_count": null,
   "id": "guilty-consultation",
   "metadata": {},
   "outputs": [],
   "source": [
    "x[[true, false, true, false, true]]"
   ]
  },
  {
   "cell_type": "code",
   "execution_count": null,
   "id": "dental-sunglasses",
   "metadata": {},
   "outputs": [],
   "source": [
    "x[[:x1]]"
   ]
  },
  {
   "cell_type": "code",
   "execution_count": null,
   "id": "integral-royal",
   "metadata": {},
   "outputs": [],
   "source": [
    "x[:x1]"
   ]
  },
  {
   "cell_type": "code",
   "execution_count": null,
   "id": "lightweight-greek",
   "metadata": {},
   "outputs": [],
   "source": [
    "x[1]"
   ]
  },
  {
   "cell_type": "code",
   "execution_count": null,
   "id": "processed-denmark",
   "metadata": {},
   "outputs": [],
   "source": [
    "empty!(y)"
   ]
  },
  {
   "cell_type": "code",
   "execution_count": null,
   "id": "elegant-treaty",
   "metadata": {},
   "outputs": [],
   "source": [
    "z = copy(x)\n",
    "x, delete!(z, 3)"
   ]
  },
  {
   "cell_type": "code",
   "execution_count": null,
   "id": "greater-commander",
   "metadata": {},
   "outputs": [],
   "source": [
    "x = DataFrame([(i,j) for i in 1:3, j in 1:5])"
   ]
  },
  {
   "cell_type": "code",
   "execution_count": null,
   "id": "fallen-ivory",
   "metadata": {},
   "outputs": [],
   "source": [
    "x[:x1] = x[:x2]\n",
    "x"
   ]
  },
  {
   "cell_type": "code",
   "execution_count": null,
   "id": "legislative-september",
   "metadata": {},
   "outputs": [],
   "source": [
    "x[:A] = [1,2,3]\n",
    "x"
   ]
  },
  {
   "cell_type": "code",
   "execution_count": null,
   "id": "political-meter",
   "metadata": {},
   "outputs": [],
   "source": [
    "x[7] = 11:13\n",
    "x"
   ]
  },
  {
   "cell_type": "code",
   "execution_count": null,
   "id": "specified-settle",
   "metadata": {},
   "outputs": [],
   "source": [
    "x = DataFrame([(i,j) for i in 1:3, j in 1:5])"
   ]
  },
  {
   "cell_type": "code",
   "execution_count": null,
   "id": "brilliant-inspiration",
   "metadata": {},
   "outputs": [],
   "source": [
    ":x1 in names(x) "
   ]
  },
  {
   "cell_type": "code",
   "execution_count": null,
   "id": "answering-florist",
   "metadata": {},
   "outputs": [],
   "source": [
    "findfirst(names(x), :x2)"
   ]
  },
  {
   "cell_type": "code",
   "execution_count": null,
   "id": "cooperative-bulletin",
   "metadata": {},
   "outputs": [],
   "source": [
    "using DataFrames;\n",
    "srand(1);"
   ]
  },
  {
   "cell_type": "code",
   "execution_count": null,
   "id": "reported-price",
   "metadata": {},
   "outputs": [],
   "source": [
    "x = DataFrame(id=1:10, x = rand(10), y = [zeros(5); ones(5)]) \n",
    "# and we hope that x[:x] is not sorted :)\n",
    "# x = DataFrame(id=1:10, x = rand(10), \n",
    "# y = [zeros(5); ones(5)]) \n",
    "# and we hope that x[:x] is not sorted :)"
   ]
  },
  {
   "cell_type": "code",
   "execution_count": null,
   "id": "challenging-zoning",
   "metadata": {},
   "outputs": [],
   "source": [
    "issorted(x), issorted(x, :x) \n",
    "# check if a DataFrame or a subset of its columns is sorted"
   ]
  },
  {
   "cell_type": "code",
   "execution_count": null,
   "id": "representative-disorder",
   "metadata": {},
   "outputs": [],
   "source": [
    "sort!(x, :x) \n",
    "# sort x in place"
   ]
  },
  {
   "cell_type": "code",
   "execution_count": null,
   "id": "operational-mobility",
   "metadata": {},
   "outputs": [],
   "source": [
    "y = sort(x, :id) \n",
    "# new DataFrame"
   ]
  },
  {
   "cell_type": "code",
   "execution_count": null,
   "id": "applied-testament",
   "metadata": {},
   "outputs": [],
   "source": [
    "sort(x, (:y, :x), rev=(true, false)) \n",
    "# sort by two columns, first is decreasing, second is increasing"
   ]
  },
  {
   "cell_type": "code",
   "execution_count": null,
   "id": "racial-instrumentation",
   "metadata": {},
   "outputs": [],
   "source": [
    "sort(x, (order(:y, rev=true), :x)) \n",
    "# the same as above"
   ]
  },
  {
   "cell_type": "code",
   "execution_count": null,
   "id": "excessive-variety",
   "metadata": {},
   "outputs": [],
   "source": [
    "sort(x, (order(:y, rev=true), order(:x, by=v->-v))) \n",
    "# some more fancy sorting stuff"
   ]
  },
  {
   "cell_type": "code",
   "execution_count": null,
   "id": "specific-generic",
   "metadata": {},
   "outputs": [],
   "source": [
    "x[shuffle(1:10), :] \n",
    "# reorder rows (here randomly)"
   ]
  },
  {
   "cell_type": "code",
   "execution_count": null,
   "id": "governmental-maker",
   "metadata": {},
   "outputs": [],
   "source": [
    "sort!(x, :id)\n",
    "x[[1,10],:] = x[[10,1],:] # swap rows\n",
    "x"
   ]
  },
  {
   "cell_type": "code",
   "execution_count": null,
   "id": "charitable-pricing",
   "metadata": {},
   "outputs": [],
   "source": [
    "x[1,:], x[10,:] = x[10,:], x[1,:] # and swap again\n",
    "x"
   ]
  },
  {
   "cell_type": "code",
   "execution_count": null,
   "id": "brutal-decrease",
   "metadata": {},
   "outputs": [],
   "source": [
    "x = DataFrame(rand(3, 5))"
   ]
  },
  {
   "cell_type": "code",
   "execution_count": null,
   "id": "amended-departure",
   "metadata": {},
   "outputs": [],
   "source": [
    "[x; x] \n",
    "# merge by rows - data frames must have the same column names; the same is vcat"
   ]
  },
  {
   "cell_type": "code",
   "execution_count": null,
   "id": "graduate-poster",
   "metadata": {},
   "outputs": [],
   "source": [
    "y = x[reverse(names(x))] \n",
    "# get y with other order of names"
   ]
  },
  {
   "cell_type": "code",
   "execution_count": null,
   "id": "pursuant-sympathy",
   "metadata": {},
   "outputs": [],
   "source": [
    "vcat(x, y) \n",
    "# we get what we want as vcat does column name matching"
   ]
  },
  {
   "cell_type": "code",
   "execution_count": null,
   "id": "lesser-occasion",
   "metadata": {},
   "outputs": [],
   "source": [
    "vcat(x, y[1:3]) \n",
    "# but column names must still match"
   ]
  },
  {
   "cell_type": "code",
   "execution_count": null,
   "id": "straight-empire",
   "metadata": {},
   "outputs": [],
   "source": [
    "append!(x, x) \n",
    "# the same but modifies x"
   ]
  },
  {
   "cell_type": "code",
   "execution_count": null,
   "id": "legal-hungary",
   "metadata": {},
   "outputs": [],
   "source": [
    "append!(x, y) \n",
    "# here column names must match exactly"
   ]
  },
  {
   "cell_type": "code",
   "execution_count": null,
   "id": "natural-abuse",
   "metadata": {},
   "outputs": [],
   "source": [
    "push!(x, 1:5) # add one row to x at the end; must give correct number of values and correct types\n",
    "x"
   ]
  },
  {
   "cell_type": "code",
   "execution_count": null,
   "id": "exempt-lexington",
   "metadata": {},
   "outputs": [],
   "source": [
    "push!(x, Dict(:x1=> 11, :x2=> 12, :x3=> 13, :x4=> 14, :x5=> 15)) # also works with dictionaries\n",
    "x"
   ]
  },
  {
   "cell_type": "code",
   "execution_count": null,
   "id": "specialized-atlantic",
   "metadata": {},
   "outputs": [],
   "source": [
    "x = DataFrame(id=1:10, val='a':'j')"
   ]
  },
  {
   "cell_type": "code",
   "execution_count": null,
   "id": "whole-paraguay",
   "metadata": {},
   "outputs": [],
   "source": [
    "x[1:2, :] # by index"
   ]
  },
  {
   "cell_type": "code",
   "execution_count": null,
   "id": "lucky-methodology",
   "metadata": {},
   "outputs": [],
   "source": [
    "view(x, 1:2) # the same but a view"
   ]
  },
  {
   "cell_type": "code",
   "execution_count": null,
   "id": "buried-advancement",
   "metadata": {},
   "outputs": [],
   "source": [
    "x[repmat([true, false], 5), :] # by Bool, exact length required"
   ]
  },
  {
   "cell_type": "code",
   "execution_count": null,
   "id": "wicked-network",
   "metadata": {},
   "outputs": [],
   "source": [
    "view(x, repmat([true, false], 5), :) # view again"
   ]
  },
  {
   "cell_type": "code",
   "execution_count": null,
   "id": "checked-macedonia",
   "metadata": {},
   "outputs": [],
   "source": [
    "deleterows!(x, 7) # delete one row"
   ]
  },
  {
   "cell_type": "code",
   "execution_count": null,
   "id": "academic-medium",
   "metadata": {},
   "outputs": [],
   "source": [
    "deleterows!(x, 6:7) # delete a collection of rows"
   ]
  },
  {
   "cell_type": "code",
   "execution_count": null,
   "id": "combined-alpha",
   "metadata": {},
   "outputs": [],
   "source": [
    "x = DataFrame([1:4, 2:5, 3:6])"
   ]
  },
  {
   "cell_type": "code",
   "execution_count": null,
   "id": "nervous-medicine",
   "metadata": {},
   "outputs": [],
   "source": [
    "filter(r -> r[:x1] > 2.5, x) \n",
    "# create a new DataFrame where filtering function operates on DataFrameRow"
   ]
  },
  {
   "cell_type": "code",
   "execution_count": null,
   "id": "alternate-bundle",
   "metadata": {},
   "outputs": [],
   "source": [
    "# in place modification of x, an example with do-block syntax\n",
    "filter!(x) do r\n",
    "    if r[:x1] > 2.5\n",
    "        return r[:x2] < 4.5\n",
    "    end\n",
    "    r[:x3] < 3.5\n",
    "end"
   ]
  },
  {
   "cell_type": "code",
   "execution_count": null,
   "id": "protecting-killer",
   "metadata": {},
   "outputs": [],
   "source": [
    "x = DataFrame(A=[1,2], B=[\"x\",\"y\"])\n",
    "append!(x, x)\n",
    "x[:C] = 1:4\n",
    "x"
   ]
  },
  {
   "cell_type": "code",
   "execution_count": null,
   "id": "seven-legislature",
   "metadata": {},
   "outputs": [],
   "source": [
    "unique(x, [1,2]) \n",
    "# get first unique rows for given index"
   ]
  },
  {
   "cell_type": "code",
   "execution_count": null,
   "id": "concrete-climate",
   "metadata": {},
   "outputs": [],
   "source": [
    "unique(x) \n",
    "# now we look at whole rows"
   ]
  },
  {
   "cell_type": "code",
   "execution_count": null,
   "id": "raised-objective",
   "metadata": {},
   "outputs": [],
   "source": [
    "nonunique(x, :A) \n",
    "# get indicators of non-unique rows"
   ]
  },
  {
   "cell_type": "code",
   "execution_count": null,
   "id": "dressed-december",
   "metadata": {},
   "outputs": [],
   "source": [
    "unique!(x, :B) \n",
    "# modify x in place"
   ]
  },
  {
   "cell_type": "code",
   "execution_count": null,
   "id": "dedicated-victim",
   "metadata": {},
   "outputs": [],
   "source": [
    "x = DataFrame(x=[1,missing,2], y=[\"a\", \"b\", missing], z=[true,false,true])"
   ]
  },
  {
   "cell_type": "code",
   "execution_count": null,
   "id": "micro-poetry",
   "metadata": {},
   "outputs": [],
   "source": [
    "cols = [:x, :y]\n",
    "[x[1, col] for col in cols] # subset of columns"
   ]
  },
  {
   "cell_type": "code",
   "execution_count": null,
   "id": "robust-stream",
   "metadata": {},
   "outputs": [],
   "source": [
    "[[x[i, col] for col in names(x)] for i in 1:nrow(x)] # vector of vectors, each entry contains one full row of x"
   ]
  },
  {
   "cell_type": "code",
   "execution_count": null,
   "id": "bigger-description",
   "metadata": {},
   "outputs": [],
   "source": [
    "Tuple(x[1, col] for col in cols) # similar construct for Tuples, when ported to Julia 0.7 NamedTuples will be added"
   ]
  },
  {
   "cell_type": "code",
   "execution_count": null,
   "id": "utility-nirvana",
   "metadata": {},
   "outputs": [],
   "source": [
    "# Categorical Arrays"
   ]
  },
  {
   "cell_type": "code",
   "execution_count": null,
   "id": "political-roberts",
   "metadata": {},
   "outputs": [],
   "source": [
    "x = categorical([\"A\", \"B\", \"B\", \"C\"]) # unordered"
   ]
  },
  {
   "cell_type": "code",
   "execution_count": null,
   "id": "reflected-financing",
   "metadata": {},
   "outputs": [],
   "source": [
    "y = categorical([\"A\", \"B\", \"B\", \"C\"], ordered=true) \n",
    "# ordered, by default order is sorting order"
   ]
  },
  {
   "cell_type": "code",
   "execution_count": null,
   "id": "warming-render",
   "metadata": {},
   "outputs": [],
   "source": [
    "z = categorical([\"A\",\"B\",\"B\",\"C\", missing]) \n",
    "# unordered with missings"
   ]
  },
  {
   "cell_type": "code",
   "execution_count": null,
   "id": "weird-occurrence",
   "metadata": {},
   "outputs": [],
   "source": [
    "c = cut(1:10, 5) \n",
    "# ordered, into equal counts, possible to rename labels and give custom breaks"
   ]
  },
  {
   "cell_type": "code",
   "execution_count": null,
   "id": "contained-narrow",
   "metadata": {},
   "outputs": [],
   "source": [
    "by(DataFrame(x=cut(randn(100000), 10)), :x, d -> DataFrame(n=nrow(d)), sort=true) \n",
    "# just to make sure it works right"
   ]
  },
  {
   "cell_type": "code",
   "execution_count": null,
   "id": "integral-wrapping",
   "metadata": {},
   "outputs": [],
   "source": [
    "v = categorical([1,2,2,3,3]) \n",
    "# contains integers not strings"
   ]
  },
  {
   "cell_type": "code",
   "execution_count": null,
   "id": "vocal-meditation",
   "metadata": {},
   "outputs": [],
   "source": [
    "Vector{Union{String, Missing}}(z) \n",
    "# sometimes you need to convert back to a standard vector"
   ]
  },
  {
   "cell_type": "code",
   "execution_count": null,
   "id": "unique-drinking",
   "metadata": {},
   "outputs": [],
   "source": [
    "arr = [x,y,z,c,v]"
   ]
  },
  {
   "cell_type": "code",
   "execution_count": null,
   "id": "competitive-actor",
   "metadata": {},
   "outputs": [],
   "source": [
    "isordered.(arr) \n",
    "# chcek if categorical array is orderd"
   ]
  },
  {
   "cell_type": "code",
   "execution_count": null,
   "id": "entertaining-number",
   "metadata": {},
   "outputs": [],
   "source": [
    "ordered!(x, true), isordered(x) # make x ordered"
   ]
  },
  {
   "cell_type": "code",
   "execution_count": null,
   "id": "moved-mediterranean",
   "metadata": {},
   "outputs": [],
   "source": [
    "ordered!(x, false), isordered(x) # and unordered again"
   ]
  },
  {
   "cell_type": "code",
   "execution_count": null,
   "id": "attempted-wrong",
   "metadata": {},
   "outputs": [],
   "source": [
    "levels.(arr) # list levels"
   ]
  },
  {
   "cell_type": "code",
   "execution_count": null,
   "id": "classical-attack",
   "metadata": {},
   "outputs": [],
   "source": [
    "unique.(arr) # missing will be included"
   ]
  },
  {
   "cell_type": "code",
   "execution_count": null,
   "id": "aerial-postcard",
   "metadata": {},
   "outputs": [],
   "source": [
    "y[1] < y[2] # can compare as y is ordered"
   ]
  },
  {
   "cell_type": "code",
   "execution_count": null,
   "id": "electric-bennett",
   "metadata": {},
   "outputs": [],
   "source": [
    "v[1] < v[2] \n",
    "# not comparable, \n",
    "# v is unordered although it contains integers"
   ]
  },
  {
   "cell_type": "code",
   "execution_count": null,
   "id": "harmful-engine",
   "metadata": {},
   "outputs": [],
   "source": [
    "levels!(y, [\"C\", \"B\", \"A\"]) \n",
    "# you can reorder levels, mostly useful for ordered CategoricalArrays"
   ]
  },
  {
   "cell_type": "code",
   "execution_count": null,
   "id": "completed-triangle",
   "metadata": {},
   "outputs": [],
   "source": [
    "y[1] < y[2] \n",
    "# observe that the order is changed"
   ]
  },
  {
   "cell_type": "code",
   "execution_count": null,
   "id": "voluntary-brief",
   "metadata": {},
   "outputs": [],
   "source": [
    "levels!(z, [\"A\", \"B\"]) \n",
    "# you have to specify all levels that are present"
   ]
  },
  {
   "cell_type": "code",
   "execution_count": null,
   "id": "otherwise-macro",
   "metadata": {},
   "outputs": [],
   "source": [
    "levels!(z, [\"A\", \"B\"], allow_missing=true) \n",
    "# unless the underlying array allows for missings and force removal of levels"
   ]
  },
  {
   "cell_type": "code",
   "execution_count": null,
   "id": "contemporary-mentor",
   "metadata": {},
   "outputs": [],
   "source": [
    "z[1] = \"B\"\n",
    "z # now z has only \"B\" entries"
   ]
  },
  {
   "cell_type": "code",
   "execution_count": null,
   "id": "international-cigarette",
   "metadata": {},
   "outputs": [],
   "source": [
    "levels(z) \n",
    "# but it remembers the levels it had (the reason is mostly performance)"
   ]
  },
  {
   "cell_type": "code",
   "execution_count": null,
   "id": "unsigned-inside",
   "metadata": {},
   "outputs": [],
   "source": [
    "droplevels!(z) \n",
    "# this way we can clean it up\n",
    "levels(z)"
   ]
  },
  {
   "cell_type": "code",
   "execution_count": null,
   "id": "interior-salad",
   "metadata": {},
   "outputs": [],
   "source": [
    "x, levels(x)"
   ]
  },
  {
   "cell_type": "code",
   "execution_count": null,
   "id": "swiss-slope",
   "metadata": {},
   "outputs": [],
   "source": [
    "x[2] = \"0\"\n",
    "x, levels(x) \n",
    "# new level added at the end (works only for unordered)"
   ]
  },
  {
   "cell_type": "code",
   "execution_count": null,
   "id": "soviet-terminology",
   "metadata": {},
   "outputs": [],
   "source": [
    "v, levels(v)"
   ]
  },
  {
   "cell_type": "code",
   "execution_count": null,
   "id": "large-landing",
   "metadata": {},
   "outputs": [],
   "source": [
    "v[1] + v[2] \n",
    "# even though underlying data is Int, we cannot operate on it"
   ]
  },
  {
   "cell_type": "code",
   "execution_count": null,
   "id": "opened-snowboard",
   "metadata": {},
   "outputs": [],
   "source": [
    "Vector{Int}(v) \n",
    "# you have either to retrieve the data by conversion (may be expensive)"
   ]
  },
  {
   "cell_type": "code",
   "execution_count": null,
   "id": "cognitive-savings",
   "metadata": {},
   "outputs": [],
   "source": [
    "get(v[1]) + get(v[2]) \n",
    "# or get a single value"
   ]
  },
  {
   "cell_type": "code",
   "execution_count": null,
   "id": "miniature-party",
   "metadata": {},
   "outputs": [],
   "source": [
    "get.(v) \n",
    "# this will work for arrays witout missings"
   ]
  },
  {
   "cell_type": "code",
   "execution_count": null,
   "id": "unique-biography",
   "metadata": {},
   "outputs": [],
   "source": [
    "get.(z) \n",
    "# but will fail on missing values"
   ]
  },
  {
   "cell_type": "code",
   "execution_count": null,
   "id": "western-bearing",
   "metadata": {},
   "outputs": [],
   "source": [
    "Vector{Union{String, Missing}}(z) \n",
    "# you have to do the conversion"
   ]
  },
  {
   "cell_type": "code",
   "execution_count": null,
   "id": "strange-windsor",
   "metadata": {},
   "outputs": [],
   "source": [
    "recode([1,2,3,4,5,missing], 1=>10) \n",
    "# recode some values in an array; has also in place recode! equivalent"
   ]
  },
  {
   "cell_type": "code",
   "execution_count": null,
   "id": "controlled-adaptation",
   "metadata": {},
   "outputs": [],
   "source": [
    "recode([1,2,3,4,5,missing], \"a\", 1=>10, 2=>20) \n",
    "# here we provided a default value for not mapped recodings"
   ]
  },
  {
   "cell_type": "code",
   "execution_count": null,
   "id": "precise-butler",
   "metadata": {},
   "outputs": [],
   "source": [
    "recode([1,2,3,4,5,missing], 1=>10, missing=>\"missing\") \n",
    "# to recode Missing you have to do it explicitly"
   ]
  },
  {
   "cell_type": "code",
   "execution_count": null,
   "id": "active-holder",
   "metadata": {},
   "outputs": [],
   "source": [
    "t = categorical([1:5; missing])\n",
    "t, levels(t)"
   ]
  },
  {
   "cell_type": "code",
   "execution_count": null,
   "id": "metric-cause",
   "metadata": {},
   "outputs": [],
   "source": [
    "recode!(t, [1,3]=>2)\n",
    "t, levels(t) \n",
    "# note that the levels are dropped after recode"
   ]
  },
  {
   "cell_type": "code",
   "execution_count": null,
   "id": "unlimited-yemen",
   "metadata": {},
   "outputs": [],
   "source": [
    "t = categorical([1,2,3], ordered=true)\n",
    "levels(recode(t, 2=>0, 1=>-1)) \n",
    "# and if you introduce a new levels they are added at the end in the order of appearance"
   ]
  },
  {
   "cell_type": "code",
   "execution_count": null,
   "id": "mexican-sending",
   "metadata": {},
   "outputs": [],
   "source": [
    "t = categorical([1,2,3,4,5], ordered=true) \n",
    "# when using default it becomes the last level\n",
    "levels(recode(t, 300, [1,2]=>100, 3=>200))"
   ]
  },
  {
   "cell_type": "code",
   "execution_count": null,
   "id": "middle-import",
   "metadata": {},
   "outputs": [],
   "source": [
    "x = categorical([1,2,3])\n",
    "xs = [x, categorical(x), categorical(x, ordered=true), categorical(x, ordered=true)]\n",
    "levels!(xs[2], [3,2,1])\n",
    "levels!(xs[4], [2,3,1])\n",
    "[a == b for a in xs, b in xs] \n",
    "# all are equal - comparison only by contents"
   ]
  },
  {
   "cell_type": "code",
   "execution_count": null,
   "id": "labeled-colorado",
   "metadata": {},
   "outputs": [],
   "source": [
    "signature(x::CategoricalArray) = (x, levels(x), isordered(x)) \n",
    "# this is actually the full signature of CategoricalArray\n",
    "# all are different, notice that x[1] and x[2] are unordered but have a different order of levels\n",
    "[signature(a) == signature(b) for a in xs, b in xs]"
   ]
  },
  {
   "cell_type": "code",
   "execution_count": null,
   "id": "brazilian-karma",
   "metadata": {},
   "outputs": [],
   "source": [
    "x[1] < x[2] \n",
    "# you cannot compare elements of unordered CategoricalArray"
   ]
  },
  {
   "cell_type": "code",
   "execution_count": null,
   "id": "hungarian-advance",
   "metadata": {},
   "outputs": [],
   "source": [
    "t[1] < t[2] \n",
    "# but you can do it for an ordered one"
   ]
  },
  {
   "cell_type": "code",
   "execution_count": null,
   "id": "precious-printer",
   "metadata": {},
   "outputs": [],
   "source": [
    "isless(x[1], x[2]) \n",
    "# isless works within the same CategoricalArray even if it is not ordered"
   ]
  },
  {
   "cell_type": "code",
   "execution_count": null,
   "id": "outdoor-industry",
   "metadata": {},
   "outputs": [],
   "source": [
    "y = deepcopy(x) \n",
    "# but not across categorical arrays\n",
    "isless(x[1], y[2])"
   ]
  },
  {
   "cell_type": "code",
   "execution_count": null,
   "id": "editorial-furniture",
   "metadata": {},
   "outputs": [],
   "source": [
    "isless(get(x[1]), get(y[2])) \n",
    "# you can use get to make a comparison of the contents of CategoricalArray"
   ]
  },
  {
   "cell_type": "code",
   "execution_count": null,
   "id": "otherwise-stamp",
   "metadata": {},
   "outputs": [],
   "source": [
    "x[1] == y[2] \n",
    "# equality tests works OK across CategoricalArrays"
   ]
  },
  {
   "cell_type": "code",
   "execution_count": null,
   "id": "removable-anchor",
   "metadata": {},
   "outputs": [],
   "source": [
    "df = DataFrame(x = 1:3, y = 'a':'c', z = [\"a\",\"b\",\"c\"])"
   ]
  },
  {
   "cell_type": "code",
   "execution_count": null,
   "id": "elect-sunrise",
   "metadata": {},
   "outputs": [],
   "source": [
    "categorical!(df) \n",
    "# converts all eltype(AbstractString) columns to categorical"
   ]
  },
  {
   "cell_type": "code",
   "execution_count": null,
   "id": "protecting-latter",
   "metadata": {},
   "outputs": [],
   "source": [
    "showcols(df)"
   ]
  },
  {
   "cell_type": "code",
   "execution_count": null,
   "id": "static-sauce",
   "metadata": {},
   "outputs": [],
   "source": [
    "categorical!(df, :x) # manually convert to categorical column :x"
   ]
  },
  {
   "cell_type": "code",
   "execution_count": null,
   "id": "clean-rebel",
   "metadata": {},
   "outputs": [],
   "source": [
    "showcols(df)"
   ]
  },
  {
   "cell_type": "code",
   "execution_count": null,
   "id": "lasting-government",
   "metadata": {},
   "outputs": [],
   "source": [
    "# Joins"
   ]
  },
  {
   "cell_type": "code",
   "execution_count": null,
   "id": "coordinate-oxford",
   "metadata": {},
   "outputs": [],
   "source": [
    "x = DataFrame(ID=[1,2,3,4,missing], name = [\"Alice\", \"Bob\", \"Conor\", \"Dave\",\"Zed\"])\n",
    "y = DataFrame(id=[1,2,5,6,missing], age = [21,22,23,24,99])\n",
    "x,y"
   ]
  },
  {
   "cell_type": "code",
   "execution_count": null,
   "id": "laden-stephen",
   "metadata": {},
   "outputs": [],
   "source": [
    "rename!(x, :ID=>:id) \n",
    "# names of columns on which we want to join must be the same"
   ]
  },
  {
   "cell_type": "code",
   "execution_count": null,
   "id": "integral-destination",
   "metadata": {},
   "outputs": [],
   "source": [
    "join(x, y, on=:id) \n",
    "# :inner join by default, missing is joined"
   ]
  },
  {
   "cell_type": "code",
   "execution_count": null,
   "id": "cross-occasions",
   "metadata": {},
   "outputs": [],
   "source": [
    "join(x, y, on=:id, kind=:left)"
   ]
  },
  {
   "cell_type": "code",
   "execution_count": null,
   "id": "seeing-reunion",
   "metadata": {},
   "outputs": [],
   "source": [
    "join(x, y, on=:id, kind=:right)"
   ]
  },
  {
   "cell_type": "code",
   "execution_count": null,
   "id": "understood-explanation",
   "metadata": {},
   "outputs": [],
   "source": [
    "join(x, y, on=:id, kind=:outer)"
   ]
  },
  {
   "cell_type": "code",
   "execution_count": null,
   "id": "prescription-aluminum",
   "metadata": {},
   "outputs": [],
   "source": [
    "join(x, y, on=:id, kind=:semi)"
   ]
  },
  {
   "cell_type": "code",
   "execution_count": null,
   "id": "latin-korea",
   "metadata": {},
   "outputs": [],
   "source": [
    "join(x, y, on=:id, kind=:anti)"
   ]
  },
  {
   "cell_type": "code",
   "execution_count": null,
   "id": "metric-funds",
   "metadata": {},
   "outputs": [],
   "source": [
    "# cross-join does not require on argument\n",
    "# it produces a Cartesian product or arguments\n",
    "# a simple replacement for expand.grid in R\n",
    "function expand_grid(;xs...)\n",
    "    reduce((x,y) -> join(x, DataFrame(Pair(y...)), kind=:cross),\n",
    "           DataFrame(Pair(xs[1]...)), xs[2:end])\n",
    "end\n",
    "\n",
    "expand_grid(a=[1,2], b=[\"a\",\"b\",\"c\"], c=[true,false])"
   ]
  },
  {
   "cell_type": "code",
   "execution_count": null,
   "id": "fallen-heater",
   "metadata": {},
   "outputs": [],
   "source": [
    "x = DataFrame(id1=[1,1,2,2,missing,missing],\n",
    "              id2=[1,11,2,21,missing,99],\n",
    "              name = [\"Alice\", \"Bob\", \"Conor\", \"Dave\",\"Zed\", \"Zoe\"])\n",
    "y = DataFrame(id1=[1,1,3,3,missing,missing],\n",
    "              id2=[11,1,31,3,missing,999],\n",
    "              age = [21,22,23,24,99, 100])\n",
    "x,y"
   ]
  },
  {
   "cell_type": "code",
   "execution_count": null,
   "id": "elementary-magnet",
   "metadata": {},
   "outputs": [],
   "source": [
    "join(x, y, on=[:id1, :id2]) \n",
    "# joining on two columns"
   ]
  },
  {
   "cell_type": "code",
   "execution_count": null,
   "id": "unusual-bradford",
   "metadata": {},
   "outputs": [],
   "source": [
    "join(x, y, on=[:id1], makeunique=true) \n",
    "# with duplicates all combinations are produced (here :inner join)"
   ]
  },
  {
   "cell_type": "code",
   "execution_count": null,
   "id": "genetic-expense",
   "metadata": {},
   "outputs": [],
   "source": [
    "join(x, y, on=[:id1], kind=:semi) \n",
    "# but not by :semi join (as it would duplicate rows)"
   ]
  },
  {
   "cell_type": "code",
   "execution_count": null,
   "id": "afraid-turkey",
   "metadata": {},
   "outputs": [],
   "source": [
    "x = DataFrame(id=[1,2,3,4], id2=[1,1,2,2], M1=[11,12,13,14], M2=[111,112,113,114])"
   ]
  },
  {
   "cell_type": "code",
   "execution_count": null,
   "id": "secondary-cathedral",
   "metadata": {},
   "outputs": [],
   "source": [
    "melt(x, :id, [:M1, :M2]) \n",
    "# first pass id-variables and then measure variables; meltdf makes a view"
   ]
  },
  {
   "cell_type": "code",
   "execution_count": null,
   "id": "precise-electric",
   "metadata": {},
   "outputs": [],
   "source": [
    "# optionally you can rename columns; melt and stack are identical but order of arguments is reversed\n",
    "stack(x, [:M1, :M2], :id, variable_name=:key, value_name=:observed) \n",
    "# first measures and then id-s; stackdf creates view"
   ]
  },
  {
   "cell_type": "code",
   "execution_count": null,
   "id": "mineral-following",
   "metadata": {},
   "outputs": [],
   "source": [
    "# if second argument is omitted in melt or stack , all other columns are assumed to be the second argument\n",
    "# but measure variables are selected only if they are <: AbstractFloat\n",
    "melt(x, [:id, :id2])"
   ]
  },
  {
   "cell_type": "code",
   "execution_count": null,
   "id": "fitted-breakdown",
   "metadata": {},
   "outputs": [],
   "source": [
    "melt(x, [1, 2]) \n",
    "# you can use index instead of symbol"
   ]
  },
  {
   "cell_type": "code",
   "execution_count": null,
   "id": "photographic-jumping",
   "metadata": {},
   "outputs": [],
   "source": [
    "# a test comparing creation of new DataFrame and a view\n",
    "bigx = DataFrame(rand(10^6, 10))\n",
    "bigx[:id] = 1:10^6\n",
    "@time melt(bigx, :id)\n",
    "@time melt(bigx, :id)\n",
    "@time meltdf(bigx, :id)\n",
    "@time meltdf(bigx, :id);"
   ]
  },
  {
   "cell_type": "code",
   "execution_count": null,
   "id": "focused-orange",
   "metadata": {},
   "outputs": [],
   "source": [
    "x = DataFrame(id = [1,1,1], id2=['a','b','c'], a1 = rand(3), a2 = rand(3))"
   ]
  },
  {
   "cell_type": "code",
   "execution_count": null,
   "id": "engaged-secretariat",
   "metadata": {},
   "outputs": [],
   "source": [
    "melt(x)"
   ]
  },
  {
   "cell_type": "code",
   "execution_count": null,
   "id": "latter-jason",
   "metadata": {},
   "outputs": [],
   "source": [
    "melt(DataFrame(rand(3,2)))\n",
    "# by default stack and melt treats floats as value columns"
   ]
  },
  {
   "cell_type": "code",
   "execution_count": null,
   "id": "professional-pittsburgh",
   "metadata": {},
   "outputs": [],
   "source": [
    "df = DataFrame(rand(3,2))\n",
    "df[:key] = [1,1,1]\n",
    "mdf = melt(df) # duplicates in key are silently accepted"
   ]
  },
  {
   "cell_type": "code",
   "execution_count": null,
   "id": "peripheral-enterprise",
   "metadata": {},
   "outputs": [],
   "source": [
    "x = DataFrame(id = [1,1,1], id2=['a','b','c'], a1 = rand(3), a2 = rand(3))"
   ]
  },
  {
   "cell_type": "code",
   "execution_count": null,
   "id": "plain-female",
   "metadata": {},
   "outputs": [],
   "source": [
    "y = melt(x, [1,2])\n",
    "display(x)\n",
    "display(y)"
   ]
  },
  {
   "cell_type": "code",
   "execution_count": null,
   "id": "confused-evening",
   "metadata": {},
   "outputs": [],
   "source": [
    "unstack(y, :id2, :variable, :value) \n",
    "# stndard unstack with a unique key"
   ]
  },
  {
   "cell_type": "code",
   "execution_count": null,
   "id": "following-bailey",
   "metadata": {},
   "outputs": [],
   "source": [
    "unstack(y, :variable, :value) \n",
    "# all other columns are treated as keys"
   ]
  },
  {
   "cell_type": "code",
   "execution_count": null,
   "id": "royal-jacksonville",
   "metadata": {},
   "outputs": [],
   "source": [
    "# by default :id, :variable and :value names are assumed; in this case it produces duplicate keys\n",
    "unstack(y)"
   ]
  },
  {
   "cell_type": "code",
   "execution_count": null,
   "id": "brilliant-greek",
   "metadata": {},
   "outputs": [],
   "source": [
    "df = stack(DataFrame(rand(3,2)))"
   ]
  },
  {
   "cell_type": "code",
   "execution_count": null,
   "id": "challenging-commonwealth",
   "metadata": {},
   "outputs": [],
   "source": [
    "unstack(df, :variable, :value) \n",
    "# unable to unstack when no key column is present"
   ]
  },
  {
   "cell_type": "code",
   "execution_count": null,
   "id": "bound-citation",
   "metadata": {},
   "outputs": [],
   "source": [
    "# Transforms\n",
    "# Split Apply Combine"
   ]
  },
  {
   "cell_type": "code",
   "execution_count": null,
   "id": "intellectual-partition",
   "metadata": {},
   "outputs": [],
   "source": [
    "x = DataFrame(id=[1,2,3,4,1,2,3,4], id2=[1,2,1,2,1,2,1,2], v=rand(8))"
   ]
  },
  {
   "cell_type": "code",
   "execution_count": null,
   "id": "complex-devon",
   "metadata": {},
   "outputs": [],
   "source": [
    "gx1 = groupby(x, :id)"
   ]
  },
  {
   "cell_type": "code",
   "execution_count": null,
   "id": "mysterious-rhythm",
   "metadata": {},
   "outputs": [],
   "source": [
    "gx2 = groupby(x, [:id, :id2])"
   ]
  },
  {
   "cell_type": "code",
   "execution_count": null,
   "id": "stopped-welding",
   "metadata": {},
   "outputs": [],
   "source": [
    "vcat(gx2...) \n",
    "# back to the original DataFrame"
   ]
  },
  {
   "cell_type": "code",
   "execution_count": null,
   "id": "african-brief",
   "metadata": {},
   "outputs": [],
   "source": [
    "x = DataFrame(id = [missing, 5, 1, 3, missing], x = 1:5)"
   ]
  },
  {
   "cell_type": "code",
   "execution_count": null,
   "id": "hawaiian-albuquerque",
   "metadata": {},
   "outputs": [],
   "source": [
    "showall(groupby(x, :id)) \n",
    "# by default groups include mising values and are not sorted"
   ]
  },
  {
   "cell_type": "code",
   "execution_count": null,
   "id": "transsexual-divide",
   "metadata": {},
   "outputs": [],
   "source": [
    "showall(groupby(x, :id, sort=true, skipmissing=true)) \n",
    "# but we can change it :)"
   ]
  },
  {
   "cell_type": "code",
   "execution_count": null,
   "id": "twenty-hamburg",
   "metadata": {},
   "outputs": [],
   "source": [
    "x = DataFrame(id=rand('a':'d', 100), v=rand(100));\n",
    "by(x, :id, y->mean(y[:v])) \n",
    "# apply a function to each group of a data frame"
   ]
  },
  {
   "cell_type": "code",
   "execution_count": null,
   "id": "promising-fraud",
   "metadata": {},
   "outputs": [],
   "source": [
    "by(x, :id, y->mean(y[:v]), sort=true) \n",
    "# we can sort the output"
   ]
  },
  {
   "cell_type": "code",
   "execution_count": null,
   "id": "political-school",
   "metadata": {},
   "outputs": [],
   "source": [
    "by(x, :id, y->DataFrame(res=mean(y[:v]))) \n",
    "# this way we can set a name for a column - DataFramesMeta @by is better"
   ]
  },
  {
   "cell_type": "code",
   "execution_count": null,
   "id": "given-combat",
   "metadata": {},
   "outputs": [],
   "source": [
    "x = DataFrame(id=rand('a':'d', 100), x1=rand(100), x2=rand(100))\n",
    "aggregate(x, :id, sum) \n",
    "# apply a function over all columns of a data frame in groups given by id"
   ]
  },
  {
   "cell_type": "code",
   "execution_count": null,
   "id": "fewer-jenny",
   "metadata": {},
   "outputs": [],
   "source": [
    "aggregate(x, :id, sum, sort=true) \n",
    "# also can be sorted"
   ]
  },
  {
   "cell_type": "code",
   "execution_count": null,
   "id": "unknown-disclosure",
   "metadata": {},
   "outputs": [],
   "source": [
    "x = DataFrame(rand(3, 5))"
   ]
  },
  {
   "cell_type": "code",
   "execution_count": null,
   "id": "fresh-presence",
   "metadata": {},
   "outputs": [],
   "source": [
    "map(mean, eachcol(x)) \n",
    "# map a function over each column and return a data frame"
   ]
  },
  {
   "cell_type": "code",
   "execution_count": null,
   "id": "convinced-lighting",
   "metadata": {},
   "outputs": [],
   "source": [
    "foreach(c -> println(c[1], \": \", mean(c[2])), eachcol(x)) \n",
    "# a raw iteration returns a tuple with column name and values"
   ]
  },
  {
   "cell_type": "code",
   "execution_count": null,
   "id": "muslim-brother",
   "metadata": {},
   "outputs": [],
   "source": [
    "colwise(mean, x) \n",
    "# colwise is similar, but produces a vector"
   ]
  },
  {
   "cell_type": "code",
   "execution_count": null,
   "id": "intensive-remove",
   "metadata": {},
   "outputs": [],
   "source": [
    "x[:id] = [1,1,2]\n",
    "colwise(mean,groupby(x, :id)) \n",
    "# and works on GroupedDataFrame"
   ]
  },
  {
   "cell_type": "code",
   "execution_count": null,
   "id": "quick-pasta",
   "metadata": {},
   "outputs": [],
   "source": [
    "map(r -> r[:x1]/r[:x2], eachrow(x)) \n",
    "# now the returned value is DataFrameRow which works similarly to a one-row DataFrame"
   ]
  },
  {
   "cell_type": "code",
   "execution_count": null,
   "id": "existing-content",
   "metadata": {},
   "outputs": [],
   "source": [
    "# Performance"
   ]
  },
  {
   "cell_type": "code",
   "execution_count": null,
   "id": "manufactured-middle",
   "metadata": {},
   "outputs": [],
   "source": [
    "x = DataFrame(rand(5, 1000))\n",
    "@btime x[500];\n",
    "@btime x[:x500];"
   ]
  },
  {
   "cell_type": "code",
   "execution_count": null,
   "id": "isolated-material",
   "metadata": {},
   "outputs": [],
   "source": [
    "# use barrier functions or type annotation\n",
    "# this function will be slow\n",
    "function f_bad()\n",
    "    rand(1); x = DataFrame(rand(1000000,2))\n",
    "    y, z = x[1], x[2]\n",
    "    p = 0.0\n",
    "    for i in 1:nrow(x)\n",
    "        p += y[i]*z[i]\n",
    "    end\n",
    "    p\n",
    "end\n",
    "\n",
    "@btime f_bad();"
   ]
  },
  {
   "cell_type": "code",
   "execution_count": null,
   "id": "utility-workstation",
   "metadata": {},
   "outputs": [],
   "source": [
    "@code_warntype f_bad() \n",
    "# the reason is that Julia does not know the types of columns in `DataFrame`"
   ]
  },
  {
   "cell_type": "code",
   "execution_count": null,
   "id": "characteristic-quarter",
   "metadata": {},
   "outputs": [],
   "source": [
    "# solution 1 is to use barrier function \n",
    "# (it should be possible to use it in almost any code)\n",
    "function f_inner(y,z)\n",
    "   p = 0.0\n",
    "   for i in 1:length(y)\n",
    "       p += y[i]*z[i]\n",
    "   end\n",
    "   p\n",
    "end\n",
    "\n",
    "function f_barrier() # extract the work to an inner function\n",
    "    rand(1); x = DataFrame(rand(1000000,2))\n",
    "    f_inner(x[1], x[2])\n",
    "end\n",
    "\n",
    "function f_inbuilt() # or use inbuilt function if possible\n",
    "    rand(1); x = DataFrame(rand(1000000,2))\n",
    "    dot(x[1], x[2])\n",
    "end\n",
    "\n",
    "@btime f_barrier();\n",
    "@btime f_inbuilt();"
   ]
  },
  {
   "cell_type": "code",
   "execution_count": null,
   "id": "positive-hebrew",
   "metadata": {},
   "outputs": [],
   "source": [
    "# solution 2 is to provide the types of extracted columns\n",
    "# it is simpler but there are cases in which you will not know these types\n",
    "function f_typed()\n",
    "    rand(1); x = DataFrame(rand(1000000,2))\n",
    "    y::Vector{Float64}, z::Vector{Float64} = x[1], x[2]\n",
    "    p = 0.0\n",
    "    for i in 1:nrow(x)\n",
    "        p += y[i]*z[i]\n",
    "    end\n",
    "    p\n",
    "end\n",
    "\n",
    "@btime f_typed();"
   ]
  },
  {
   "cell_type": "code",
   "execution_count": null,
   "id": "exciting-fetish",
   "metadata": {},
   "outputs": [],
   "source": [
    "function f1()\n",
    "    x = DataFrame(Float64, 10^4, 100) # we work with DataFrame directly\n",
    "    for c in 1:ncol(x)\n",
    "        d = x[c]\n",
    "        for r in 1:nrow(x)\n",
    "            d[r] = rand()\n",
    "        end\n",
    "    end\n",
    "    x\n",
    "end\n",
    "\n",
    "function f2()\n",
    "    x = Vector{Any}(100)\n",
    "    for c in 1:length(x)\n",
    "        d = Vector{Float64}(10^4)\n",
    "        for r in 1:length(d)\n",
    "            d[r] = rand()\n",
    "        end\n",
    "        x[c] = d\n",
    "    end\n",
    "    DataFrame(x) # we delay creation of DataFrame after we have our job done\n",
    "end\n",
    "\n",
    "@btime f1();\n",
    "@btime f2();"
   ]
  },
  {
   "cell_type": "code",
   "execution_count": null,
   "id": "inner-contact",
   "metadata": {},
   "outputs": [],
   "source": [
    "x = DataFrame(rand(10^6, 5))\n",
    "y = DataFrame(transpose(1.0:5.0))\n",
    "z = [1.0:5.0;]\n",
    "\n",
    "@btime vcat($x, $y); # creates a new DataFrame - slow\n",
    "@btime append!($x, $y); # in place - fast\n",
    "\n",
    "x = DataFrame(rand(10^6, 5)) # reset to the same starting point\n",
    "@btime push!($x, $z); # add a single row in place - fastest"
   ]
  },
  {
   "cell_type": "code",
   "execution_count": null,
   "id": "faced-launch",
   "metadata": {},
   "outputs": [],
   "source": [
    "# allowing missing and categorical slows down computations"
   ]
  },
  {
   "cell_type": "code",
   "execution_count": null,
   "id": "outdoor-deputy",
   "metadata": {},
   "outputs": [],
   "source": [
    "import Pkg\n",
    "Pkg.add(\"StatsBase\")\n",
    "using StatsBase\n",
    "\n",
    "function test(data) # uses countmap function to test performance\n",
    "    println(eltype(data))\n",
    "    x = rand(data, 10^6)\n",
    "    y = categorical(x)\n",
    "    println(\" raw:\")\n",
    "    @btime countmap($x)\n",
    "    println(\" categorical:\")\n",
    "    @btime countmap($y)\n",
    "    nothing\n",
    "end\n",
    "\n",
    "test(1:10)\n",
    "test([randstring() for i in 1:10])\n",
    "test(allowmissing(1:10))\n",
    "test(allowmissing([randstring() for i in 1:10]))\n"
   ]
  },
  {
   "cell_type": "code",
   "execution_count": null,
   "id": "binding-malta",
   "metadata": {},
   "outputs": [],
   "source": [
    "# Possible Pitfalls"
   ]
  },
  {
   "cell_type": "code",
   "execution_count": null,
   "id": "suspended-topic",
   "metadata": {},
   "outputs": [],
   "source": [
    "x = DataFrame(rand(3, 5))"
   ]
  },
  {
   "cell_type": "code",
   "execution_count": null,
   "id": "conceptual-terrace",
   "metadata": {},
   "outputs": [],
   "source": [
    "y = DataFrame(x)\n",
    "x === y # no copyinng performed"
   ]
  },
  {
   "cell_type": "code",
   "execution_count": null,
   "id": "utility-johnson",
   "metadata": {},
   "outputs": [],
   "source": [
    "y = copy(x)\n",
    "x === y # not the same object"
   ]
  },
  {
   "cell_type": "code",
   "execution_count": null,
   "id": "quantitative-indicator",
   "metadata": {},
   "outputs": [],
   "source": [
    "all(x[i] === y[i] for i in ncol(x)) \n",
    "# but the columns are the same"
   ]
  },
  {
   "cell_type": "code",
   "execution_count": null,
   "id": "political-profit",
   "metadata": {},
   "outputs": [],
   "source": [
    "x = 1:3; y = [1, 2, 3]; df = DataFrame(x=x,y=y) \n",
    "# the same when creating arrays or assigning columns, except ranges"
   ]
  },
  {
   "cell_type": "code",
   "execution_count": null,
   "id": "homeless-yeast",
   "metadata": {},
   "outputs": [],
   "source": [
    "y === df[:y] \n",
    "# the same object"
   ]
  },
  {
   "cell_type": "code",
   "execution_count": null,
   "id": "beginning-health",
   "metadata": {},
   "outputs": [],
   "source": [
    "typeof(x), typeof(df[:x]) \n",
    "# range is converted to a vector"
   ]
  },
  {
   "cell_type": "code",
   "execution_count": null,
   "id": "retired-portland",
   "metadata": {},
   "outputs": [],
   "source": [
    "x = DataFrame(id=repeat([1,2], outer=3), x=1:6)\n",
    "g = groupby(x, :id)"
   ]
  },
  {
   "cell_type": "code",
   "execution_count": null,
   "id": "rural-croatia",
   "metadata": {},
   "outputs": [],
   "source": [
    "x[1:3, 1]=[2,2,2]\n",
    "g # well - it is wrong now, g is only a view"
   ]
  },
  {
   "cell_type": "code",
   "execution_count": null,
   "id": "compound-professional",
   "metadata": {},
   "outputs": [],
   "source": [
    "# filter columns of a dataframe by using booleans"
   ]
  },
  {
   "cell_type": "code",
   "execution_count": null,
   "id": "forbidden-investigator",
   "metadata": {},
   "outputs": [],
   "source": [
    "rand(1)\n",
    "x = DataFrame(rand(5, 5))"
   ]
  },
  {
   "cell_type": "code",
   "execution_count": null,
   "id": "central-median",
   "metadata": {},
   "outputs": [],
   "source": [
    "x[x[:x1] .< 0.25] \n",
    "# well - we have filtered columns not rows by accident as you can select columns using booleans"
   ]
  },
  {
   "cell_type": "code",
   "execution_count": null,
   "id": "pregnant-croatia",
   "metadata": {},
   "outputs": [],
   "source": [
    "x[x[:x1] .< 0.25, :] \n",
    "# probably this is what we wanted"
   ]
  },
  {
   "cell_type": "code",
   "execution_count": null,
   "id": "increasing-interview",
   "metadata": {},
   "outputs": [],
   "source": [
    "# column selections for DataFrame creates aliases unless explicitly copied"
   ]
  },
  {
   "cell_type": "code",
   "execution_count": null,
   "id": "serial-teach",
   "metadata": {},
   "outputs": [],
   "source": [
    "x = DataFrame(a=1:3)\n",
    "x[:b] = x[1] # alias\n",
    "x[:c] = x[:, 1] # also alias\n",
    "x[:d] = x[1][:] # copy\n",
    "x[:e] = copy(x[1]) # explicit copy\n",
    "display(x)\n",
    "x[1,1] = 100\n",
    "display(x)"
   ]
  },
  {
   "cell_type": "code",
   "execution_count": null,
   "id": "induced-juice",
   "metadata": {},
   "outputs": [],
   "source": [
    "# Extras selected functionalities of selected packages"
   ]
  },
  {
   "cell_type": "code",
   "execution_count": null,
   "id": "present-homework",
   "metadata": {},
   "outputs": [],
   "source": [
    "import Pkg\n",
    "Pkg.add(\"FreqTables\")\n",
    "using FreqTables\n",
    "df = DataFrame(a=rand('a':'d', 1000), b=rand([\"x\", \"y\", \"z\"], 1000))\n",
    "ft = freqtable(df, :a, :b) \n",
    "# observe that dimensions are sorted if possible"
   ]
  },
  {
   "cell_type": "code",
   "execution_count": null,
   "id": "polish-thanks",
   "metadata": {},
   "outputs": [],
   "source": [
    "ft[1,1], ft['b', \"z\"] \n",
    "# you can index the result using numbers or names"
   ]
  },
  {
   "cell_type": "code",
   "execution_count": null,
   "id": "aerial-robertson",
   "metadata": {},
   "outputs": [],
   "source": [
    "proportions(ft, 1) \n",
    "# getting proportions - 1 means we want to calculate them in rows (first dimension)"
   ]
  },
  {
   "cell_type": "code",
   "execution_count": null,
   "id": "floral-baking",
   "metadata": {},
   "outputs": [],
   "source": [
    "proportions(ft, 2) \n",
    "# and columns are normalized to 1.0 now"
   ]
  },
  {
   "cell_type": "code",
   "execution_count": null,
   "id": "environmental-magazine",
   "metadata": {},
   "outputs": [],
   "source": [
    "x = categorical(rand(1:3, 10))\n",
    "levels!(x, [3, 1, 2, 4]) \n",
    "# reordering levels and adding an extra level\n",
    "freqtable(x) \n",
    "# order is preserved and not-used level is shown"
   ]
  },
  {
   "cell_type": "code",
   "execution_count": null,
   "id": "automated-overview",
   "metadata": {},
   "outputs": [],
   "source": [
    "freqtable([1,1,2,3,missing]) \n",
    "# by default missings are listed"
   ]
  },
  {
   "cell_type": "code",
   "execution_count": null,
   "id": "greatest-puppy",
   "metadata": {},
   "outputs": [],
   "source": [
    "freqtable([1,1,2,3,missing], skipmissing=true) \n",
    "# but we can skip them"
   ]
  },
  {
   "cell_type": "code",
   "execution_count": null,
   "id": "square-problem",
   "metadata": {},
   "outputs": [],
   "source": [
    "# DataFramesMeta\n",
    "import Pkg\n",
    "Pkg.add(\"DataFramesMeta\")\n",
    "using DataFramesMeta\n",
    "df = DataFrame(x=1:8, y='a':'h', z=repeat([true,false], outer=4))"
   ]
  },
  {
   "cell_type": "code",
   "execution_count": null,
   "id": "sapphire-bosnia",
   "metadata": {},
   "outputs": [],
   "source": [
    "@with(df, :x+:z) \n",
    "# expressions with columns of DataFrame"
   ]
  },
  {
   "cell_type": "code",
   "execution_count": null,
   "id": "immediate-claim",
   "metadata": {},
   "outputs": [],
   "source": [
    "# you can define code blocks\n",
    "@with df begin\n",
    "    a = :x[:z]\n",
    "    b = :x[.!:z]\n",
    "    :y + [a; b]\n",
    "end"
   ]
  },
  {
   "cell_type": "code",
   "execution_count": null,
   "id": "configured-western",
   "metadata": {},
   "outputs": [],
   "source": [
    "a # @with creates hard scope so variables do not leak out"
   ]
  },
  {
   "cell_type": "code",
   "execution_count": null,
   "id": "delayed-spyware",
   "metadata": {},
   "outputs": [],
   "source": [
    "df2 = DataFrame(a = [:a, :b, :c])\n",
    "@with(df2, :a .== ^(:a)) \n",
    "# sometimes we want to work on raw Symbol, ^() escapes it"
   ]
  },
  {
   "cell_type": "code",
   "execution_count": null,
   "id": "realistic-guyana",
   "metadata": {},
   "outputs": [],
   "source": [
    "df2 = DataFrame(x=1:3, y=4:6, z=7:9)\n",
    "@with(df2, _I_(2:3)) \n",
    "# _I_(expression) is translated to df2[expression]"
   ]
  },
  {
   "cell_type": "code",
   "execution_count": null,
   "id": "minus-connection",
   "metadata": {},
   "outputs": [],
   "source": [
    "@where(df, :x .< 4, :z .== true) \n",
    "# very useful macro for filtering"
   ]
  },
  {
   "cell_type": "code",
   "execution_count": null,
   "id": "binding-filing",
   "metadata": {},
   "outputs": [],
   "source": [
    "@select(df, :x, y = 2*:x, z=:y) \n",
    "# create a new DataFrame based on the old one"
   ]
  },
  {
   "cell_type": "code",
   "execution_count": null,
   "id": "pediatric-riding",
   "metadata": {},
   "outputs": [],
   "source": [
    "@transform(df, a=1, x = 2*:x, y=:x) \n",
    "# create a new DataFrame adding columns based on the old one"
   ]
  },
  {
   "cell_type": "code",
   "execution_count": null,
   "id": "inside-label",
   "metadata": {},
   "outputs": [],
   "source": [
    "@transform(df, a=1, b=:a) \n",
    "# old DataFrame is used and :a is not present there"
   ]
  },
  {
   "cell_type": "code",
   "execution_count": null,
   "id": "hydraulic-burning",
   "metadata": {},
   "outputs": [],
   "source": [
    "@orderby(df, :z, -:x) \n",
    "# sorting into a new data frame, less powerful than sort, but lightweight"
   ]
  },
  {
   "cell_type": "code",
   "execution_count": null,
   "id": "impressive-quantity",
   "metadata": {},
   "outputs": [],
   "source": [
    "@linq df |> # chaining of operations on DataFrame\n",
    "    where(:x .< 5) |>\n",
    "    orderby(:z) |>\n",
    "    transform(x²=:x.^2) |>\n",
    "    select(:z, :x, :x²)"
   ]
  },
  {
   "cell_type": "code",
   "execution_count": null,
   "id": "conditional-nurse",
   "metadata": {},
   "outputs": [],
   "source": [
    "f(df, col) = df[col] # you can define your own functions and put them in the chain\n",
    "@linq df |> where(:x .<= 4) |> f(:x)"
   ]
  },
  {
   "cell_type": "code",
   "execution_count": null,
   "id": "appointed-pavilion",
   "metadata": {},
   "outputs": [],
   "source": [
    "df = DataFrame(a = 1:12, b = repeat('a':'d', outer=3))\n",
    "g = groupby(df, :b)"
   ]
  },
  {
   "cell_type": "code",
   "execution_count": null,
   "id": "growing-province",
   "metadata": {},
   "outputs": [],
   "source": [
    "@by(df, :b, first=first(:a), last=last(:a), mean=mean(:a)) \n",
    "# more convinient than by from DataFrames"
   ]
  },
  {
   "cell_type": "code",
   "execution_count": null,
   "id": "mounted-heating",
   "metadata": {},
   "outputs": [],
   "source": [
    "@based_on(g, first=first(:a), last=last(:a), mean=mean(:a)) \n",
    "# the same as by but on grouped DataFrame"
   ]
  },
  {
   "cell_type": "code",
   "execution_count": null,
   "id": "regular-revolution",
   "metadata": {},
   "outputs": [],
   "source": [
    "@where(g, mean(:a) > 6.5) \n",
    "# filter gropus on aggregate conditions"
   ]
  },
  {
   "cell_type": "code",
   "execution_count": null,
   "id": "important-consortium",
   "metadata": {},
   "outputs": [],
   "source": [
    "@orderby(g, -sum(:a)) \n",
    "# order groups on aggregate conditions"
   ]
  },
  {
   "cell_type": "code",
   "execution_count": null,
   "id": "invisible-runner",
   "metadata": {},
   "outputs": [],
   "source": [
    "@transform(g, center = mean(:a), centered = :a - mean(:a)) \n",
    "# perform operations within a group and return ungroped DataFrame"
   ]
  },
  {
   "cell_type": "code",
   "execution_count": null,
   "id": "extraordinary-alignment",
   "metadata": {},
   "outputs": [],
   "source": [
    "DataFrame(g) \n",
    "# a nice convinience function not defined in DataFrames"
   ]
  },
  {
   "cell_type": "code",
   "execution_count": null,
   "id": "perceived-swift",
   "metadata": {},
   "outputs": [],
   "source": [
    "@transform(g) \n",
    "# actually this is the same"
   ]
  },
  {
   "cell_type": "code",
   "execution_count": null,
   "id": "continental-testament",
   "metadata": {},
   "outputs": [],
   "source": [
    "@linq df |> groupby(:b) |> where(mean(:a) > 6.5) |> DataFrame \n",
    "# you can do chaining on grouped DataFrames as well"
   ]
  },
  {
   "cell_type": "code",
   "execution_count": null,
   "id": "timely-variety",
   "metadata": {},
   "outputs": [],
   "source": [
    "df = DataFrame(a = 1:12, b = repeat(1:4, outer=3))"
   ]
  },
  {
   "cell_type": "code",
   "execution_count": null,
   "id": "intimate-magazine",
   "metadata": {},
   "outputs": [],
   "source": [
    "# such conditions are often needed but are complex to write\n",
    "@transform(df, x = ifelse.((:a .> 6) .& (:b .== 4), \"yes\", \"no\"))"
   ]
  },
  {
   "cell_type": "code",
   "execution_count": null,
   "id": "thrown-finish",
   "metadata": {},
   "outputs": [],
   "source": [
    "# one option is to use a function that works on a single observation and broadcast it\n",
    "myfun(a, b) = a > 6 && b == 4 ? \"yes\" : \"no\"\n",
    "@transform(df, x = myfun.(:a, :b))"
   ]
  },
  {
   "cell_type": "code",
   "execution_count": null,
   "id": "excellent-wagner",
   "metadata": {},
   "outputs": [],
   "source": [
    "# or you can use @byrow! macro that allows you to process DataFrame rowwise\n",
    "@byrow! df begin\n",
    "    @newcol x::Vector{String}\n",
    "    :x = :a > 6 && :b == 4 ? \"yes\" : \"no\"\n",
    "end"
   ]
  },
  {
   "cell_type": "code",
   "execution_count": null,
   "id": "adequate-thursday",
   "metadata": {},
   "outputs": [],
   "source": [
    "import Pkg\n",
    "Pkg.add(\"StatPlots\")\n",
    "using StatPlots \n",
    "# you might need to setup Plots package and some plotting backend first"
   ]
  },
  {
   "cell_type": "code",
   "execution_count": null,
   "id": "dried-daisy",
   "metadata": {},
   "outputs": [],
   "source": [
    "# we present only a minimal functionality of the package"
   ]
  },
  {
   "cell_type": "code",
   "execution_count": null,
   "id": "sized-organ",
   "metadata": {},
   "outputs": [],
   "source": [
    "rand(1)\n",
    "df = DataFrame(x = sort(randn(1000)), y=randn(1000), z = [fill(\"b\", 500); fill(\"a\", 500)])"
   ]
  },
  {
   "cell_type": "code",
   "execution_count": null,
   "id": "amino-belarus",
   "metadata": {},
   "outputs": [],
   "source": [
    "@df df plot(:x, :y, legend=:topleft, label=\"y(x)\") # a most basic plot"
   ]
  },
  {
   "cell_type": "code",
   "execution_count": null,
   "id": "native-technician",
   "metadata": {},
   "outputs": [],
   "source": [
    "@df df density(:x, label=\"\") # density plot"
   ]
  },
  {
   "cell_type": "code",
   "execution_count": null,
   "id": "sized-richards",
   "metadata": {},
   "outputs": [],
   "source": [
    "@df df histogram(:y, label=\"y\") # and a histogram"
   ]
  },
  {
   "cell_type": "code",
   "execution_count": null,
   "id": "foster-meditation",
   "metadata": {},
   "outputs": [],
   "source": [
    "@df df boxplot(:z, :x, label=\"x\")"
   ]
  },
  {
   "cell_type": "code",
   "execution_count": null,
   "id": "bigger-bacteria",
   "metadata": {},
   "outputs": [],
   "source": [
    "@df df violin(:z, :y, label=\"y\")"
   ]
  },
  {
   "cell_type": "code",
   "execution_count": null,
   "id": "conservative-texture",
   "metadata": {},
   "outputs": [],
   "source": []
  }
 ],
 "metadata": {
  "kernelspec": {
   "display_name": "Julia 1.6.0-beta1",
   "language": "julia",
   "name": "julia-1.6"
  },
  "language_info": {
   "file_extension": ".jl",
   "mimetype": "application/julia",
   "name": "julia",
   "version": "1.6.0"
  }
 },
 "nbformat": 4,
 "nbformat_minor": 5
}
